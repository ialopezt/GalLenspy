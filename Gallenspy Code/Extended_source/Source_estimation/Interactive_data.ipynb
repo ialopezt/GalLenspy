{
 "cells": [
  {
   "cell_type": "code",
   "execution_count": 1,
   "metadata": {},
   "outputs": [
    {
     "name": "stdout",
     "output_type": "stream",
     "text": [
      "galpyWarning: interppotential_c extension module not loaded, because galpy_interppotential_c.cpython-37m-x86_64-linux-gnu.so image was not found\n"
     ]
    }
   ],
   "source": [
    "from scipy.misc import *\n",
    "import numpy as np\n",
    "import pylab as plb\n",
    "import matplotlib.pyplot as plt\n",
    "import matplotlib.cm as cm\n",
    "from scipy.integrate import quad\n",
    "from scipy.integrate import nquad\n",
    "from scipy.misc import derivative\n",
    "from ipywidgets import interact, interactive, fixed\n",
    "from ipywidgets import widgets\n",
    "from matplotlib.widgets import Slider, Button, RadioButtons, CheckButtons, TextBox # Matplotlib widgets\n",
    "import pandas as pd\n",
    "import emcee\n",
    "import corner\n",
    "from astropy import table as Table # For fast and easy reading / writing with tables using numpy library\n",
    "from galpy.potential import MiyamotoNagaiPotential, NFWPotential, RazorThinExponentialDiskPotential, BurkertPotential # GALPY potentials"
   ]
  },
  {
   "cell_type": "code",
   "execution_count": 2,
   "metadata": {},
   "outputs": [],
   "source": [
    "# In[ ]:\n",
    "\n",
    "tt=Table.Table.read('coordinates.txt', format='ascii.tab') # import deflected images data\n",
    "\n",
    "theta1=tt['theta1'] \n",
    "theta2=tt['theta2']\n",
    "sigma=tt['sigma']\n",
    "\n",
    "theta=np.zeros(len(theta1),float)\n",
    "for i in range(len(theta1)):\n",
    "    theta[i]=np.sqrt(theta1[i]**2+theta2[i]**2)\n",
    "\n",
    "tt=Table.Table.read('alpha.txt', format='ascii.tab') #import circumference angles data\n",
    "alpha=tt['alpha']\n",
    "\n",
    "tt=Table.Table.read('Cosmological_distances.txt', format='ascii.tab')#import cosmolofical distances\n",
    "D_ds=tt['D_ds'][0] \n",
    "D_d=tt['D_d'][0]\n",
    "D_s=tt['D_s'][0]\n",
    "SIGMA_CRIT=tt['SIGMA_CRIT'][0]\n",
    "\n",
    "\n",
    "FC = np.pi/(180*3600) #conversion factor between arcs and radians\n",
    "\n",
    "#Exponential Disk potential\n",
    "def alpha1_ExpDisk(Sigma_0,h_r):\n",
    "    GRADPOT1 = np.zeros((len(theta1)), float)\n",
    "    def POTDEF1(TheTa1,theta):\n",
    "        TheTa = np.sqrt(TheTa1**2+theta2[l]**2)\n",
    "        R = D_d*TheTa\n",
    "        Sigma = Sigma_0*np.exp(-D_d*TheTa/h_r)\n",
    "        kappa = Sigma/SIGMA_CRIT\n",
    "        return (2/theta1[l])*TheTa1*kappa/SIGMA_CRIT**2\n",
    "    for l in range(len(theta1)):\n",
    "        GRADPOT1[l]= quad(POTDEF1, 0, theta1[l], limit=100, args=(theta[l]))[0]\n",
    "    return GRADPOT1*SIGMA_CRIT**2\n",
    "\n",
    "def alpha2_ExpDisk(Sigma_0,h_r):\n",
    "    GRADPOT1 = np.zeros((len(theta1)), float)\n",
    "    def POTDEF1(TheTa2,theta):\n",
    "        TheTa = np.sqrt(TheTa2**2+theta1[l]**2)\n",
    "        R = D_d*TheTa\n",
    "        Sigma = Sigma_0*np.exp(-D_d*TheTa/h_r)\n",
    "        kappa = Sigma/SIGMA_CRIT\n",
    "        return (2/theta2[l])*TheTa2*kappa/SIGMA_CRIT**2\n",
    "    for l in range(len(theta1)):\n",
    "        GRADPOT1[l]= quad(POTDEF1, 0, theta2[l], limit=100, args=(theta[l]))[0]\n",
    "    return GRADPOT1*SIGMA_CRIT**2\n"
   ]
  },
  {
   "cell_type": "code",
   "execution_count": 3,
   "metadata": {},
   "outputs": [],
   "source": [
    "#Function of the deflected images\n",
    "def THETA(R,H,K,SIGMA_0, H_R):\n",
    "    THETA1 = np.zeros((len(theta1)), float)\n",
    "    THETA2 = np.zeros((len(theta1)), float)\n",
    "    r=R*FC\n",
    "    h=H*FC\n",
    "    k=K*FC\n",
    "    Beta1 = r*np.cos(alpha)+h\n",
    "    Beta2 = r*np.sin(alpha)+k\n",
    "    GRADPOT1_DISK=alpha1_ExpDisk(SIGMA_0,H_R)\n",
    "    GRADPOT2_DISK=alpha2_ExpDisk(SIGMA_0,H_R)\n",
    "    for l in range(len(theta1)):\n",
    "        THETA1[l] = Beta1[l]+GRADPOT1_DISK[l]\n",
    "        THETA2[l] = Beta2[l]+GRADPOT2_DISK[l]\n",
    "    #Graphics of source and images\n",
    "    fig = plt.figure()\n",
    "#    ax = fig.add_subplot(111)\n",
    "    plt.rcParams['figure.figsize'] =(5,5)\n",
    "    plb.plot(Beta1/FC, Beta2/FC, '--r')\n",
    "    plb.plot(theta1/FC, theta2/FC, 'ob')\n",
    "    plb.plot(THETA1/FC, THETA2/FC, 'og')\n",
    "    plb.xlim(-2.5,2.5)\n",
    "    plb.ylim(-2.5,2.5)\n",
    "    plb.legend(['Source', 'Observational data', 'model values'], loc='upper right', fontsize=15)\n",
    "#    ax.set_aspect('equal', adjustable='box')"
   ]
  },
  {
   "cell_type": "code",
   "execution_count": 4,
   "metadata": {},
   "outputs": [
    {
     "data": {
      "application/vnd.jupyter.widget-view+json": {
       "model_id": "f075d8e21af846fca6caa7ad3fa3f2bb",
       "version_major": 2,
       "version_minor": 0
      },
      "text/plain": [
       "interactive(children=(FloatSlider(value=0.1, description='R', max=0.2, min=0.01, step=0.01), FloatSlider(value…"
      ]
     },
     "metadata": {},
     "output_type": "display_data"
    },
    {
     "data": {
      "application/vnd.jupyter.widget-view+json": {
       "model_id": "d74ba145fd684130afc42d1305abafc3",
       "version_major": 2,
       "version_minor": 0
      },
      "text/plain": [
       "Button(description='Finish', style=ButtonStyle())"
      ]
     },
     "metadata": {},
     "output_type": "display_data"
    },
    {
     "data": {
      "application/vnd.jupyter.widget-view+json": {
       "model_id": "37d4c9fe2b224941aac5cd863c65fd22",
       "version_major": 2,
       "version_minor": 0
      },
      "text/plain": [
       "Output()"
      ]
     },
     "metadata": {},
     "output_type": "display_data"
    }
   ],
   "source": [
    "#Interactive function\n",
    "A=interactive(THETA,R=widgets.FloatSlider(min=0.01, max=0.2, step=0.01, value=0.1),\n",
    "        H=widgets.FloatSlider(min=-0.2, max=0.2, step=0.01, value=0.0),\n",
    "        K=widgets.FloatSlider(min=-0.2, max=0.2, step=0.01, value=0.0),\n",
    "        H_R=widgets.FloatSlider(min=2, max=24, step=0.2, value=12),\n",
    "        SIGMA_0 = widgets.FloatSlider(min=1e8, max=60e8, step=0.5e8, value=30e8));\n",
    "display(A)\n",
    "button = widgets.Button(description=\"Finish\")\n",
    "output = widgets.Output()\n",
    "display(button, output)\n",
    "def on_button_clicked(b):\n",
    "    with output:\n",
    "        r=A.kwargs['R']\n",
    "        h=A.kwargs['H']\n",
    "        k=A.kwargs['K']\n",
    "        h_r=A.kwargs['H_R']\n",
    "        Sigma_0=A.kwargs['SIGMA_0']\n",
    "        compnts = ['r', 'h','k','h_r','Sigma_0']\n",
    "        values = [r, h, k, h_r, Sigma_0]\n",
    "        error = ['None', 'None', 'None', 'None', 'None']\n",
    "        init_parameters = Table.Table([compnts,values,error], names=('variable', 'value', 'error'))\n",
    "        init_parameters.write('init_guess_params.txt', format='ascii.tab', overwrite=True)\n",
    "        print(\"--------------Done---------------\")\n",
    "        print(init_parameters)\n",
    "button.on_click(on_button_clicked)"
   ]
  },
  {
   "cell_type": "code",
   "execution_count": null,
   "metadata": {},
   "outputs": [],
   "source": []
  }
 ],
 "metadata": {
  "kernelspec": {
   "display_name": "Python 3",
   "language": "python",
   "name": "python3"
  },
  "language_info": {
   "codemirror_mode": {
    "name": "ipython",
    "version": 3
   },
   "file_extension": ".py",
   "mimetype": "text/x-python",
   "name": "python",
   "nbconvert_exporter": "python",
   "pygments_lexer": "ipython3",
   "version": "3.7.6"
  }
 },
 "nbformat": 4,
 "nbformat_minor": 4
}
