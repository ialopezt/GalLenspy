{
 "cells": [
  {
   "cell_type": "code",
   "execution_count": 1,
   "metadata": {},
   "outputs": [
    {
     "name": "stdout",
     "output_type": "stream",
     "text": [
      "galpyWarning: interppotential_c extension module not loaded, because galpy_interppotential_c.cpython-37m-x86_64-linux-gnu.so image was not found\n"
     ]
    }
   ],
   "source": [
    "from scipy.misc import *\n",
    "import numpy as np\n",
    "import pylab as plb\n",
    "import matplotlib.pyplot as plt\n",
    "import matplotlib.cm as cm\n",
    "from scipy.integrate import quad\n",
    "from scipy.integrate import nquad\n",
    "from scipy.misc import derivative\n",
    "from ipywidgets import interact, interactive, fixed\n",
    "from ipywidgets import widgets\n",
    "from matplotlib.widgets import Slider, Button, RadioButtons, CheckButtons, TextBox # Matplotlib widgets\n",
    "import pandas as pd\n",
    "import emcee\n",
    "import corner\n",
    "from astropy import table as Table # For fast and easy reading / writing with tables using numpy library\n",
    "from galpy.potential import MiyamotoNagaiPotential, NFWPotential, RazorThinExponentialDiskPotential, BurkertPotential # GALPY potentials"
   ]
  },
  {
   "cell_type": "code",
   "execution_count": 2,
   "metadata": {},
   "outputs": [],
   "source": [
    "# In[ ]:\n",
    "\n",
    "tt=Table.Table.read('coordinates.txt', format='ascii.tab') # importando los datos de las imágenes\n",
    "\n",
    "#Importando coordenadas de las imágenes deflectadas\n",
    "theta1=tt['theta1'] \n",
    "theta2=tt['theta2']\n",
    "sigma=tt['sigma']\n",
    "\n",
    "theta=np.zeros(len(theta1),float)\n",
    "for i in range(len(theta1)):\n",
    "    theta[i]=np.sqrt(theta1[i]**2+theta2[i]**2)\n",
    "\n",
    "tt=Table.Table.read('Cosmological_distances.txt', format='ascii.tab') # importando los datos de distancias cosmológicas\n",
    "\n",
    "#Importando distancias cosmológicas y Sigma Crítico\n",
    "D_ds=tt['D_ds'][0] \n",
    "D_d=tt['D_d'][0]\n",
    "D_s=tt['D_s'][0]\n",
    "SIGMA_CRIT=tt['SIGMA_CRIT'][0]\n",
    "\n",
    "\n",
    "FC = np.pi/(180*3600) #conversion factor between arcs and radians\n"
   ]
  },
  {
   "cell_type": "code",
   "execution_count": 3,
   "metadata": {},
   "outputs": [],
   "source": [
    "def THETA(H,K,SIGMA_0, H_R):\n",
    "    GRADPOT1disk_exp = np.zeros((len(theta1)), float)\n",
    "    GRADPOT2disk_exp = np.zeros((len(theta1)), float)\n",
    "    GRADPOT1 = np.zeros((len(theta1)), float)\n",
    "    GRADPOT2 = np.zeros((len(theta1)), float)\n",
    "    THETA1 = np.zeros((len(theta1)), float)\n",
    "    THETA2 = np.zeros((len(theta1)), float)\n",
    "    THETA_teor = np.zeros((len(theta1)), float)\n",
    "    h=H*FC\n",
    "    k=K*FC\n",
    "    Beta1 = h\n",
    "    Beta2 = k\n",
    "    def POTDEFdisk_exp1(x):\n",
    "        def integ(TheTa, theta):\n",
    "            Sigma = SIGMA_0*np.exp(-D_d*TheTa/H_R) #Volumetric density\n",
    "            return 2*TheTa*np.log(THETA/TheTa)*Sigma/(SIGMA_CRIT**3)\n",
    "        THETA = np.sqrt(x**2 + theta2[l]**2)\n",
    "        x = quad(integ, 0, theta[l], limit=100, args=(theta))[0]\n",
    "        return x\n",
    "    def POTDEFdisk_exp2(x):\n",
    "        def integ(TheTa, theta):\n",
    "            Sigma = SIGMA_0*np.exp(-D_d*TheTa/H_R) #Volumetric density\n",
    "            return 2*TheTa*np.log(THETA/TheTa)*Sigma/(SIGMA_CRIT**3)\n",
    "        THETA = np.sqrt(x**2 + theta1[l]**2)\n",
    "        x = quad(integ, 0, theta[l], limit=100, args=(theta))[0]\n",
    "        return x\n",
    "    for l in range(len(theta1)):\n",
    "        GRADPOT1disk_exp[l]= derivative(POTDEFdisk_exp1, theta1[l], dx=1e-9, order=7)\n",
    "        GRADPOT2disk_exp[l]= derivative(POTDEFdisk_exp2, theta2[l], dx=1e-9, order=7)\n",
    "    for l in range(len(theta1)):\n",
    "        GRADPOT1[l]=(SIGMA_CRIT**2)*(GRADPOT1disk_exp[l])\n",
    "        GRADPOT2[l]=(SIGMA_CRIT**2)*(GRADPOT2disk_exp[l])\n",
    "    for l in range(len(theta1)):\n",
    "        THETA1[l] = Beta1+GRADPOT1[l]\n",
    "        THETA2[l] = Beta2+GRADPOT2[l]\n",
    "    #Graphics of source and images\n",
    "    fig = plt.figure()\n",
    "#    ax = fig.add_subplot(111)\n",
    "    plt.rcParams['figure.figsize'] =(5,5)\n",
    "    plb.plot(Beta1/FC, Beta2/FC, 'or')\n",
    "    plb.plot(theta1/FC, theta2/FC, 'ob')\n",
    "    plb.plot(THETA1/FC, THETA2/FC, 'og')\n",
    "    plb.xlim(-2.5,2.5)\n",
    "    plb.ylim(-2.5,2.5)\n",
    "    plb.legend(['Source', 'Observational data', 'model values'], loc='upper right', fontsize=15)\n",
    "#    ax.set_aspect('equal', adjustable='box')"
   ]
  },
  {
   "cell_type": "code",
   "execution_count": 4,
   "metadata": {},
   "outputs": [
    {
     "data": {
      "application/vnd.jupyter.widget-view+json": {
       "model_id": "c27ac63701654911ab03d96e6180e9c4",
       "version_major": 2,
       "version_minor": 0
      },
      "text/plain": [
       "interactive(children=(FloatSlider(value=-0.15, description='H', max=0.2, min=-0.2, step=0.01), FloatSlider(val…"
      ]
     },
     "metadata": {},
     "output_type": "display_data"
    }
   ],
   "source": [
    "interact(THETA, H=widgets.FloatSlider(min=-0.2, max=0.2, step=0.01, value=-0.15),\n",
    "        K=widgets.FloatSlider(min=-0.2, max=0.2, step=0.01, value=-0.15),\n",
    "        H_R=widgets.FloatSlider(min=2, max=50, step=0.2, value=3),\n",
    "        SIGMA_0 = widgets.FloatSlider(min=1e8, max=120e8, step=0.5e8, value=1e8));"
   ]
  },
  {
   "cell_type": "code",
   "execution_count": null,
   "metadata": {},
   "outputs": [],
   "source": []
  }
 ],
 "metadata": {
  "kernelspec": {
   "display_name": "Python 3",
   "language": "python",
   "name": "python3"
  },
  "language_info": {
   "codemirror_mode": {
    "name": "ipython",
    "version": 3
   },
   "file_extension": ".py",
   "mimetype": "text/x-python",
   "name": "python",
   "nbconvert_exporter": "python",
   "pygments_lexer": "ipython3",
   "version": "3.7.6"
  }
 },
 "nbformat": 4,
 "nbformat_minor": 4
}
