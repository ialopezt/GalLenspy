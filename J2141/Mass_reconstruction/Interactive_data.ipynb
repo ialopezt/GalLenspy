{
 "cells": [
  {
   "cell_type": "code",
   "execution_count": 1,
   "metadata": {},
   "outputs": [
    {
     "name": "stdout",
     "output_type": "stream",
     "text": [
      "galpyWarning: interppotential_c extension module not loaded, because galpy_interppotential_c.cpython-37m-x86_64-linux-gnu.so image was not found\n"
     ]
    }
   ],
   "source": [
    "from scipy.misc import *\n",
    "import numpy as np\n",
    "import pylab as plb\n",
    "import matplotlib.pyplot as plt\n",
    "import matplotlib.cm as cm\n",
    "from scipy.integrate import quad\n",
    "from scipy.integrate import nquad\n",
    "from scipy.misc import derivative\n",
    "from ipywidgets import interact, interactive, fixed\n",
    "from ipywidgets import widgets\n",
    "import pandas as pd\n",
    "import emcee\n",
    "import corner\n",
    "from astropy import table as Table # For fast and easy reading / writing with tables using numpy library\n",
    "from galpy.potential import MiyamotoNagaiPotential, NFWPotential, RazorThinExponentialDiskPotential, BurkertPotential # GALPY potentials"
   ]
  },
  {
   "cell_type": "code",
   "execution_count": 2,
   "metadata": {},
   "outputs": [],
   "source": [
    "# In[ ]:\n",
    "\n",
    "tt=Table.Table.read('coordinates.txt', format='ascii.tab') # importando los datos de las imágenes\n",
    "\n",
    "#Importando coordenadas de las imágenes deflectadas\n",
    "theta1=tt['theta1'] \n",
    "theta2=tt['theta2']\n",
    "\n",
    "theta=np.zeros(len(theta1),float)\n",
    "for i in range(len(theta1)):\n",
    "    theta[i]=np.sqrt(theta1[i]**2+theta2[i]**2)\n",
    "\n",
    "tt=Table.Table.read('alpha.txt', format='ascii.tab') # importando los datos de las imágenes los ángulos en la circunferencia para la fuente circular\n",
    "#Imprtando los valores de alpha\n",
    "alpha=tt['alpha']\n",
    "\n",
    "FC = np.pi/(180*3600) #conversion factor between arcs and radians\n",
    "R = 0.03\n",
    "r = R*np.pi/(180*3600)\n",
    "H = -0.0356\n",
    "h = H*np.pi/(180*3600)\n",
    "K = 0.00593\n",
    "K = K*np.pi/(180*3600)\n",
    "    \n",
    "Beta1 = r*np.cos(alpha)+h\n",
    "Beta2 = r*np.sin(alpha)+K\n",
    "\n",
    "\n",
    "#Definiendo la lente y sus parámetros principales\n",
    "D_ds = 1179.6e3\n",
    "D_d = 497.6e3\n",
    "D_s = 1510.2e3\n",
    "SIGMA_CRIT = 4285.3e6 #Sigma crítico para la convergencia"
   ]
  },
  {
   "cell_type": "code",
   "execution_count": 3,
   "metadata": {},
   "outputs": [],
   "source": [
    "def THETA(R_S,m_0, SIGMA_0, H_R, B,MASS):\n",
    "    GRADPOT1disk_exp = np.zeros((len(theta1)), float)\n",
    "    GRADPOT2disk_exp = np.zeros((len(theta1)), float)\n",
    "    GRADPOT1 = np.zeros((len(theta1)), float)\n",
    "    GRADPOT2 = np.zeros((len(theta1)), float)\n",
    "    THETA1 = np.zeros((len(theta1)), float)\n",
    "    THETA2 = np.zeros((len(theta1)), float)\n",
    "    GRADPOT1nfw = np.zeros((len(theta1)), float)\n",
    "    GRADPOT2nfw = np.zeros((len(theta1)), float)\n",
    "    GRADPOT1MN = np.zeros((len(theta1)), float)\n",
    "    GRADPOT2MN = np.zeros((len(theta1)), float)\n",
    "    THETA_teor = np.zeros((len(theta1)), float)\n",
    "    def POTDEFnfw1(x):\n",
    "        def integ(TheTa, theta):\n",
    "            R = D_d*TheTa\n",
    "            NFW_p = NFWPotential(amp=m_0, a=R_S, normalize=False)\n",
    "            Sigma = NFW_p.dens(R,0.)\n",
    "            kappa = Sigma/SIGMA_CRIT\n",
    "            return 2*TheTa*np.log(THETA/TheTa)*kappa/(SIGMA_CRIT**2)\n",
    "        THETA = np.sqrt(x**2 + theta2[l]**2)\n",
    "        x = quad(integ, 0, theta[l], limit=100, args=(theta[l]))[0]\n",
    "        return x\n",
    "    def POTDEFnfw2(x):\n",
    "        def integ(TheTa, theta):\n",
    "            R = D_d*TheTa\n",
    "            NFW_p = NFWPotential(amp=m_0, a=R_S, normalize=False)\n",
    "            Sigma = NFW_p.dens(R,0.)\n",
    "            kappa = Sigma/SIGMA_CRIT\n",
    "            return 2*TheTa*np.log(THETA/TheTa)*kappa/(SIGMA_CRIT**2)\n",
    "        THETA = np.sqrt(x**2 + theta1[l]**2)\n",
    "        x = quad(integ, 0, theta[l], limit=100, args=(theta[l]))[0]\n",
    "        return x\n",
    "    def MN1(x):\n",
    "        def integ(TheTa, theta):\n",
    "            R = D_d*TheTa\n",
    "            MN_Bulge_p= MiyamotoNagaiPotential(amp=MASS,a=0,b=B,normalize=False)\n",
    "            Sigma = MN_Bulge_p.dens(R,0.)\n",
    "            kappa = Sigma/SIGMA_CRIT\n",
    "            return 2*TheTa*np.log(THETA/TheTa)*kappa/(SIGMA_CRIT**2)\n",
    "        THETA = np.sqrt(x**2 + theta2[l]**2)\n",
    "        x = quad(integ, 0, theta[l], limit=100, args=(theta[l]))[0]\n",
    "        return x\n",
    "    def MN2(x):\n",
    "        def integ(TheTa, theta):\n",
    "            R = D_d*TheTa\n",
    "            MN_Bulge_p= MiyamotoNagaiPotential(amp=MASS,a=0,b=B,normalize=False)\n",
    "            Sigma = MN_Bulge_p.dens(R,0.)\n",
    "            kappa = Sigma/SIGMA_CRIT\n",
    "            return 2*TheTa*np.log(THETA/TheTa)*kappa/(SIGMA_CRIT**2)\n",
    "        THETA = np.sqrt(x**2 + theta1[l]**2)\n",
    "        x = quad(integ, 0, theta[l], limit=100, args=(theta[l]))[0]\n",
    "        return x\n",
    "    def POTDEFdisk_exp1(x):\n",
    "        def integ(TheTa, theta):\n",
    "            Sigma = SIGMA_0*np.exp(-D_d*TheTa/H_R) #Volumetric density\n",
    "            return 2*TheTa*np.log(THETA/TheTa)*Sigma/(SIGMA_CRIT**3)\n",
    "        THETA = np.sqrt(x**2 + theta2[l]**2)\n",
    "        x = quad(integ, 0, theta[l], limit=100, args=(theta))[0]\n",
    "        return x\n",
    "    def POTDEFdisk_exp2(x):\n",
    "        def integ(TheTa, theta):\n",
    "            Sigma = SIGMA_0*np.exp(-D_d*TheTa/H_R) #Volumetric density\n",
    "            return 2*TheTa*np.log(THETA/TheTa)*Sigma/(SIGMA_CRIT**3)\n",
    "        THETA = np.sqrt(x**2 + theta1[l]**2)\n",
    "        x = quad(integ, 0, theta[l], limit=100, args=(theta))[0]\n",
    "        return x\n",
    "    for l in range(len(theta1)):\n",
    "        GRADPOT1nfw[l]= derivative(POTDEFnfw1, theta1[l], dx=1e-9, order=7)\n",
    "        GRADPOT2nfw[l]= derivative(POTDEFnfw2, theta2[l], dx=1e-9, order=7)\n",
    "    for l in range(len(theta1)):\n",
    "        GRADPOT1disk_exp[l]= derivative(POTDEFdisk_exp1, theta1[l], dx=1e-9, order=7)\n",
    "        GRADPOT2disk_exp[l]= derivative(POTDEFdisk_exp2, theta2[l], dx=1e-9, order=7)\n",
    "    for l in range(len(theta1)):\n",
    "        GRADPOT1MN[l]= derivative(MN1, theta1[l], dx=1e-9, order=7)\n",
    "        GRADPOT2MN[l]= derivative(MN2, theta2[l], dx=1e-9, order=7)    \n",
    "    for l in range(len(theta1)):\n",
    "        GRADPOT1[l]=(SIGMA_CRIT**2)*(GRADPOT1nfw[l]+GRADPOT1disk_exp[l]+GRADPOT1MN[l])\n",
    "        GRADPOT2[l]=(SIGMA_CRIT**2)*(GRADPOT2nfw[l]+GRADPOT2disk_exp[l]+GRADPOT2MN[l])\n",
    "    for l in range(len(theta1)):\n",
    "        THETA1[l] = Beta1[l]+GRADPOT1[l]\n",
    "        THETA2[l] = Beta2[l]+GRADPOT2[l]\n",
    "    #Graphics of source and images\n",
    "    fig = plt.figure()\n",
    "#    ax = fig.add_subplot(111)\n",
    "    plt.rcParams['figure.figsize'] =(10,10)\n",
    "    plb.plot(Beta1/FC, Beta2/FC, '--r')\n",
    "    plb.plot(theta1/FC, theta2/FC, 'ob')\n",
    "    plb.plot(THETA1/FC, THETA2/FC, 'og')\n",
    "    plb.xlim(-2.5,2.5)\n",
    "    plb.ylim(-2.5,2.5)\n",
    "    plb.legend(['Source', 'Observational data', 'model values'], loc='upper right', fontsize=15)\n",
    " #   ax.set_aspect('equal', adjustable='box')"
   ]
  },
  {
   "cell_type": "code",
   "execution_count": 4,
   "metadata": {},
   "outputs": [
    {
     "data": {
      "application/vnd.jupyter.widget-view+json": {
       "model_id": "20fcd82493d44d79974f08596575b4b7",
       "version_major": 2,
       "version_minor": 0
      },
      "text/plain": [
       "interactive(children=(FloatSlider(value=0.1, description='R_S', max=60.1, min=0.1, step=1.0), FloatSlider(valu…"
      ]
     },
     "metadata": {},
     "output_type": "display_data"
    }
   ],
   "source": [
    "interact(THETA,R_S=widgets.FloatSlider(min=0.1, max=60.1, step=1, value=0.1),\n",
    "        m_0=widgets.FloatSlider(min=0.1e11, max=1e12, step=0.1e11, value=0.6),\n",
    "        H_R=widgets.FloatSlider(min=2, max=30, step=0.2, value=3),\n",
    "        SIGMA_0 = widgets.FloatSlider(min=1e8, max=1e10, step=0.5e8, value=1e8),\n",
    "        B=widgets.FloatSlider(min=0.1, max=2, step=0.02, value=0.3),\n",
    "        MASS=widgets.FloatSlider(min=0.1e10, max=2e10, step=0.05e10, value=0.5e10));"
   ]
  },
  {
   "cell_type": "code",
   "execution_count": null,
   "metadata": {},
   "outputs": [],
   "source": []
  }
 ],
 "metadata": {
  "kernelspec": {
   "display_name": "Python 3",
   "language": "python",
   "name": "python3"
  },
  "language_info": {
   "codemirror_mode": {
    "name": "ipython",
    "version": 3
   },
   "file_extension": ".py",
   "mimetype": "text/x-python",
   "name": "python",
   "nbconvert_exporter": "python",
   "pygments_lexer": "ipython3",
   "version": "3.7.6"
  }
 },
 "nbformat": 4,
 "nbformat_minor": 4
}
